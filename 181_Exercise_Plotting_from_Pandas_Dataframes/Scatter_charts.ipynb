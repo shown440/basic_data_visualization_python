{
 "cells": [
  {
   "cell_type": "code",
   "execution_count": 9,
   "metadata": {},
   "outputs": [
    {
     "name": "stderr",
     "output_type": "stream",
     "text": [
      "c:\\users\\shifullah ahmed khan\\appdata\\local\\programs\\python\\python37-32\\lib\\site-packages\\pandas\\io\\excel.py:329: FutureWarning: The `sheetname` keyword is deprecated, use `sheet_name` instead\n",
      "  **kwds)\n"
     ]
    }
   ],
   "source": [
    "from bokeh.plotting import figure, output_file, show\n",
    "import pandas\n",
    "import numpy\n",
    "\n",
    "df=pandas.read_excel(\"http://pythonhow.com/verlegenhuken.xlsx\",sheetname=0)\n",
    "\n",
    "p = figure(plot_width=600, plot_height=400, toolbar_location=\"below\")\n",
    "\n",
    "p.title.text=\"Temperature and Air Pressure\"\n",
    "p.title.text_color = \"red\"\n",
    "p.title.text_font = \"times\"\n",
    "p.title.text_font_style = \"italic\"\n",
    "\n",
    "p.circle(df[\"Temperature\"], df[\"Pressure\"], size=1, color=\"blue\", alpha=0.5)\n",
    "\n",
    "output_file(\"Scatter_plot.html\")\n",
    "show(p)"
   ]
  },
  {
   "cell_type": "code",
   "execution_count": null,
   "metadata": {},
   "outputs": [],
   "source": [
    "from bokeh.plotting import figure, output_file, show\n",
    "import pandas\n",
    "import numpy\n",
    "\n",
    "df=pandas.DataFrame(columns=[\"X\", \"Y\"])\n",
    "df[\"X\"]=[1,2,3,4,5]\n",
    "df[\"Y\"]=[5,6,4,5,3]\n",
    "\n",
    "p = figure(plot_width=600, plot_height=400, title=\"Earthquake\", toolbar_location=\"below\")\n",
    "\n",
    "p.title.text_color = \"red\"\n",
    "p.title.text_font = \"times\"\n",
    "p.title.text_font_style = \"italic\"\n",
    "\n",
    "p.xaxis.minor_tick_line_color=\"red\"\n",
    "p.yaxis.minor_tick_line_color=\"red\"\n",
    "\n",
    "p.circle(df[\"X\"], df[\"Y\"], size=[i*2 for i in[5,8,11,14,17]], color=\"red\", alpha=0.5)\n",
    "\n",
    "output_file(\"Scatter_plot.html\")\n",
    "show(p)"
   ]
  }
 ],
 "metadata": {
  "kernelspec": {
   "display_name": "Python 3",
   "language": "python",
   "name": "python3"
  },
  "language_info": {
   "codemirror_mode": {
    "name": "ipython",
    "version": 3
   },
   "file_extension": ".py",
   "mimetype": "text/x-python",
   "name": "python",
   "nbconvert_exporter": "python",
   "pygments_lexer": "ipython3",
   "version": "3.7.0"
  }
 },
 "nbformat": 4,
 "nbformat_minor": 2
}
